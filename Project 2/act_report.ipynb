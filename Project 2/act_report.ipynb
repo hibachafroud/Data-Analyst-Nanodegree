{
 "cells": [
  {
   "cell_type": "markdown",
   "metadata": {},
   "source": [
    "## Report: act_report(WeRateDogs)\n",
    "*This report is made to analyse and visualize insights after the process of gathering ,assessing and cleaning data.* "
   ]
  },
  {
   "cell_type": "markdown",
   "metadata": {},
   "source": [
    "### Introduction \n",
    "\n",
    "The WeRateDogs Enhanced Twitter archive contains data extracted from 2356 of the 5000+ tweets from the @dog_rates twitter account, posted between November 15, 2015 and August 1, 2017.The project is about wrangling, analysing and visualizing data from various sources.One is presented as a csv file containing information about text tweet, timestemp,tweet replies and retweets and ratings, a tsv file containing information about tweet id, image url and predictions of dog breed and a text file creating after scrapping favoriate and retweet counts from a tweet using the tweet id with the help of the python's library tweepy and twitter's API.\n",
    "\n",
    "The wrangling part is about gathter , assess and clean data.As i mentioned above, data was gathered from variours sources then assessed which is the process of scientifically and statistically evaluating data meet the quality required and then cleaned  to increase productivity and allow for the highest quality information in analysis.\n",
    "\n",
    "This is how the final data look like after the cleaning part :\n",
    "\n",
    "<img src=\"tweet_clean_sample.png\">\n",
    "Summary about seize and type of the data:\n",
    "<img src=\"data__info.png\">"
   ]
  },
  {
   "cell_type": "markdown",
   "metadata": {},
   "source": [
    "### Correlation \n",
    "#### Retweets and Favorites\n",
    "\n",
    "There is a positive correlation between retweet and favoriate, the model can be fitted with a regression fit line so as  conclusion the more a tweet get retweeted the more it gets favoriates.\n",
    "\n",
    "\n",
    "\n",
    "<img src=\"retweetsVSfavoriates.png\">"
   ]
  },
  {
   "cell_type": "markdown",
   "metadata": {},
   "source": [
    "#### Rating and Retweet\n",
    "\n",
    "I also noticed that there is a positive correlation betweem ratings and retweets since the dog which rated the higer , the higher it gets retweets.\n",
    "\n",
    "\n",
    "<img src=\"ratingVSretweets.png\">"
   ]
  },
  {
   "cell_type": "markdown",
   "metadata": {},
   "source": [
    "#### Rating and Favorite\n",
    "\n",
    "Same for this case,i noticed that there is a positive correlation between ratings and favorates, a dag get high rate also get a high favoriate count.\n",
    "\n",
    "\n",
    "<img src=\"ratingVSfavorites.png\">"
   ]
  },
  {
   "cell_type": "markdown",
   "metadata": {},
   "source": [
    "### Top 10 dog breeds\n",
    "\n",
    "I was curious to know which dog breeds are presented the most in this dataset.The analysis that i've done led me to this ,labrador retriever is the most common dog breed\n",
    "\n",
    "<img src=\"Top 10 dog breed.png\">\n",
    "\n",
    "I also wanted to check if there is a correlation between retweets and ratings? \n",
    "The answer is yes . Dogs which have a labrador retriever breed did really get high ratings\n",
    "<img src=\"Labrador_retriever.png\">\n"
   ]
  },
  {
   "cell_type": "markdown",
   "metadata": {},
   "source": [
    "### Rating distribution\n",
    "The ratings are distributed as follow : \n",
    "<img src=\"Rating distribution.png\">\n",
    "The max rate value is 14 and the min value is 0 while the mean value is 12.\n"
   ]
  },
  {
   "cell_type": "markdown",
   "metadata": {},
   "source": [
    "### Most common dog stage\n",
    "I wanted to see which dog stage is the most common and the answer is pupper with a 68.8%.\n",
    "\n",
    "<img src=\"Dog stages.png\">\n",
    "\n",
    "I also wanted to check if there is a correlation between retweets and ratings and puppers? The answer is yes . Dogs which are puppers did really get high ratings and retweets.\n",
    "<img src=\"pupper.png\">"
   ]
  },
  {
   "cell_type": "markdown",
   "metadata": {},
   "source": [
    "### Does 'labrador retriever' represent a high percentage 'pupper'?\n",
    "\n",
    "The answer is yes, labrador retrieve represent exactly 12% of pupper as the pie plot show below.Be aware that others with thpercentage of 65.3% is a sum different dog breeds having a stage pupper .\n",
    "<img src=\"pupperBreeds.png\">"
   ]
  },
  {
   "cell_type": "markdown",
   "metadata": {},
   "source": [
    "### What is the most liked labrador retriever pupper\n",
    "\n",
    "This is the most liked labrador retriever pupper, unfortunately this dog doesn't have a name.\n",
    "\n",
    "<img src=\"like.png\">\n"
   ]
  },
  {
   "cell_type": "markdown",
   "metadata": {},
   "source": [
    "### Most used twitter source\n",
    "Out of 1944 tweets , 1907 one's were posted from an IPhone.\n",
    "\n",
    "<img src=\"Twitter source.png\">"
   ]
  },
  {
   "cell_type": "markdown",
   "metadata": {},
   "source": [
    "### Top 10 dog names \n",
    "\n",
    "Owner tend to name their dogs 'Charlie', 'Cooper' and 'Oliver' since they are the most common dog names , the second ones are 'Lucy' , 'Penny' and 'Tucker'.\n",
    "\n",
    "<img src=\"Top 10 dog names.png\">"
   ]
  },
  {
   "cell_type": "markdown",
   "metadata": {},
   "source": [
    "### Peak hours\n",
    "\n",
    "My analysis let me to this, the user/s of WeRateDogs tend to post tweets between 11pm and 3am and 15pm and 18pm.\n",
    "\n",
    "\n",
    "<img src=\"Pick_hours.png\">"
   ]
  }
 ],
 "metadata": {
  "kernelspec": {
   "display_name": "Python 3",
   "language": "python",
   "name": "python3"
  },
  "language_info": {
   "codemirror_mode": {
    "name": "ipython",
    "version": 3
   },
   "file_extension": ".py",
   "mimetype": "text/x-python",
   "name": "python",
   "nbconvert_exporter": "python",
   "pygments_lexer": "ipython3",
   "version": "3.6.3"
  }
 },
 "nbformat": 4,
 "nbformat_minor": 2
}
